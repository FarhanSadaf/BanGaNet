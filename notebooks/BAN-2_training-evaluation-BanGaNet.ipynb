{
 "cells": [
  {
   "cell_type": "code",
   "execution_count": 1,
   "metadata": {
    "colab": {
     "base_uri": "https://localhost:8080/"
    },
    "executionInfo": {
     "elapsed": 764,
     "status": "ok",
     "timestamp": 1730907142142,
     "user": {
      "displayName": "dabbrata das",
      "userId": "05166886590944937364"
     },
     "user_tz": -480
    },
    "id": "53oQ0vxIMdp2",
    "outputId": "641c1ae3-6e40-411a-b248-218069438b17"
   },
   "outputs": [
    {
     "name": "stdout",
     "output_type": "stream",
     "text": [
      "Wed Nov  6 15:32:21 2024       \n",
      "+---------------------------------------------------------------------------------------+\n",
      "| NVIDIA-SMI 535.104.05             Driver Version: 535.104.05   CUDA Version: 12.2     |\n",
      "|-----------------------------------------+----------------------+----------------------+\n",
      "| GPU  Name                 Persistence-M | Bus-Id        Disp.A | Volatile Uncorr. ECC |\n",
      "| Fan  Temp   Perf          Pwr:Usage/Cap |         Memory-Usage | GPU-Util  Compute M. |\n",
      "|                                         |                      |               MIG M. |\n",
      "|=========================================+======================+======================|\n",
      "|   0  Tesla T4                       Off | 00000000:00:04.0 Off |                    0 |\n",
      "| N/A   43C    P8               9W /  70W |      0MiB / 15360MiB |      0%      Default |\n",
      "|                                         |                      |                  N/A |\n",
      "+-----------------------------------------+----------------------+----------------------+\n",
      "                                                                                         \n",
      "+---------------------------------------------------------------------------------------+\n",
      "| Processes:                                                                            |\n",
      "|  GPU   GI   CI        PID   Type   Process name                            GPU Memory |\n",
      "|        ID   ID                                                             Usage      |\n",
      "|=======================================================================================|\n",
      "|  No running processes found                                                           |\n",
      "+---------------------------------------------------------------------------------------+\n"
     ]
    }
   ],
   "source": [
    "!nvidia-smi"
   ]
  },
  {
   "cell_type": "code",
   "execution_count": 2,
   "metadata": {
    "colab": {
     "base_uri": "https://localhost:8080/"
    },
    "executionInfo": {
     "elapsed": 4312,
     "status": "ok",
     "timestamp": 1730907149746,
     "user": {
      "displayName": "dabbrata das",
      "userId": "05166886590944937364"
     },
     "user_tz": -480
    },
    "id": "n5HBBhj89XWr",
    "outputId": "19ee8c03-17ae-4b25-db1e-b55f4b4afc52"
   },
   "outputs": [
    {
     "name": "stdout",
     "output_type": "stream",
     "text": [
      "Requirement already satisfied: tensorflow==2.13.0 in /usr/local/lib/python3.10/dist-packages (2.13.0)\n",
      "Requirement already satisfied: absl-py>=1.0.0 in /usr/local/lib/python3.10/dist-packages (from tensorflow==2.13.0) (1.4.0)\n",
      "Requirement already satisfied: astunparse>=1.6.0 in /usr/local/lib/python3.10/dist-packages (from tensorflow==2.13.0) (1.6.3)\n",
      "Requirement already satisfied: flatbuffers>=23.1.21 in /usr/local/lib/python3.10/dist-packages (from tensorflow==2.13.0) (24.3.25)\n",
      "Requirement already satisfied: gast<=0.4.0,>=0.2.1 in /usr/local/lib/python3.10/dist-packages (from tensorflow==2.13.0) (0.4.0)\n",
      "Requirement already satisfied: google-pasta>=0.1.1 in /usr/local/lib/python3.10/dist-packages (from tensorflow==2.13.0) (0.2.0)\n",
      "Requirement already satisfied: grpcio<2.0,>=1.24.3 in /usr/local/lib/python3.10/dist-packages (from tensorflow==2.13.0) (1.64.1)\n",
      "Requirement already satisfied: h5py>=2.9.0 in /usr/local/lib/python3.10/dist-packages (from tensorflow==2.13.0) (3.12.1)\n",
      "Requirement already satisfied: keras<2.14,>=2.13.1 in /usr/local/lib/python3.10/dist-packages (from tensorflow==2.13.0) (2.13.1)\n",
      "Requirement already satisfied: libclang>=13.0.0 in /usr/local/lib/python3.10/dist-packages (from tensorflow==2.13.0) (18.1.1)\n",
      "Requirement already satisfied: numpy<=1.24.3,>=1.22 in /usr/local/lib/python3.10/dist-packages (from tensorflow==2.13.0) (1.24.3)\n",
      "Requirement already satisfied: opt-einsum>=2.3.2 in /usr/local/lib/python3.10/dist-packages (from tensorflow==2.13.0) (3.4.0)\n",
      "Requirement already satisfied: packaging in /usr/local/lib/python3.10/dist-packages (from tensorflow==2.13.0) (24.1)\n",
      "Requirement already satisfied: protobuf!=4.21.0,!=4.21.1,!=4.21.2,!=4.21.3,!=4.21.4,!=4.21.5,<5.0.0dev,>=3.20.3 in /usr/local/lib/python3.10/dist-packages (from tensorflow==2.13.0) (3.20.3)\n",
      "Requirement already satisfied: setuptools in /usr/local/lib/python3.10/dist-packages (from tensorflow==2.13.0) (75.1.0)\n",
      "Requirement already satisfied: six>=1.12.0 in /usr/local/lib/python3.10/dist-packages (from tensorflow==2.13.0) (1.16.0)\n",
      "Requirement already satisfied: tensorboard<2.14,>=2.13 in /usr/local/lib/python3.10/dist-packages (from tensorflow==2.13.0) (2.13.0)\n",
      "Requirement already satisfied: tensorflow-estimator<2.14,>=2.13.0 in /usr/local/lib/python3.10/dist-packages (from tensorflow==2.13.0) (2.13.0)\n",
      "Requirement already satisfied: termcolor>=1.1.0 in /usr/local/lib/python3.10/dist-packages (from tensorflow==2.13.0) (2.5.0)\n",
      "Requirement already satisfied: typing-extensions<4.6.0,>=3.6.6 in /usr/local/lib/python3.10/dist-packages (from tensorflow==2.13.0) (4.5.0)\n",
      "Requirement already satisfied: wrapt>=1.11.0 in /usr/local/lib/python3.10/dist-packages (from tensorflow==2.13.0) (1.16.0)\n",
      "Requirement already satisfied: tensorflow-io-gcs-filesystem>=0.23.1 in /usr/local/lib/python3.10/dist-packages (from tensorflow==2.13.0) (0.37.1)\n",
      "Requirement already satisfied: wheel<1.0,>=0.23.0 in /usr/local/lib/python3.10/dist-packages (from astunparse>=1.6.0->tensorflow==2.13.0) (0.44.0)\n",
      "Requirement already satisfied: google-auth<3,>=1.6.3 in /usr/local/lib/python3.10/dist-packages (from tensorboard<2.14,>=2.13->tensorflow==2.13.0) (2.27.0)\n",
      "Requirement already satisfied: google-auth-oauthlib<1.1,>=0.5 in /usr/local/lib/python3.10/dist-packages (from tensorboard<2.14,>=2.13->tensorflow==2.13.0) (1.0.0)\n",
      "Requirement already satisfied: markdown>=2.6.8 in /usr/local/lib/python3.10/dist-packages (from tensorboard<2.14,>=2.13->tensorflow==2.13.0) (3.7)\n",
      "Requirement already satisfied: requests<3,>=2.21.0 in /usr/local/lib/python3.10/dist-packages (from tensorboard<2.14,>=2.13->tensorflow==2.13.0) (2.32.3)\n",
      "Requirement already satisfied: tensorboard-data-server<0.8.0,>=0.7.0 in /usr/local/lib/python3.10/dist-packages (from tensorboard<2.14,>=2.13->tensorflow==2.13.0) (0.7.2)\n",
      "Requirement already satisfied: werkzeug>=1.0.1 in /usr/local/lib/python3.10/dist-packages (from tensorboard<2.14,>=2.13->tensorflow==2.13.0) (3.0.6)\n",
      "Requirement already satisfied: cachetools<6.0,>=2.0.0 in /usr/local/lib/python3.10/dist-packages (from google-auth<3,>=1.6.3->tensorboard<2.14,>=2.13->tensorflow==2.13.0) (5.5.0)\n",
      "Requirement already satisfied: pyasn1-modules>=0.2.1 in /usr/local/lib/python3.10/dist-packages (from google-auth<3,>=1.6.3->tensorboard<2.14,>=2.13->tensorflow==2.13.0) (0.4.1)\n",
      "Requirement already satisfied: rsa<5,>=3.1.4 in /usr/local/lib/python3.10/dist-packages (from google-auth<3,>=1.6.3->tensorboard<2.14,>=2.13->tensorflow==2.13.0) (4.9)\n",
      "Requirement already satisfied: requests-oauthlib>=0.7.0 in /usr/local/lib/python3.10/dist-packages (from google-auth-oauthlib<1.1,>=0.5->tensorboard<2.14,>=2.13->tensorflow==2.13.0) (1.3.1)\n",
      "Requirement already satisfied: charset-normalizer<4,>=2 in /usr/local/lib/python3.10/dist-packages (from requests<3,>=2.21.0->tensorboard<2.14,>=2.13->tensorflow==2.13.0) (3.4.0)\n",
      "Requirement already satisfied: idna<4,>=2.5 in /usr/local/lib/python3.10/dist-packages (from requests<3,>=2.21.0->tensorboard<2.14,>=2.13->tensorflow==2.13.0) (3.10)\n",
      "Requirement already satisfied: urllib3<3,>=1.21.1 in /usr/local/lib/python3.10/dist-packages (from requests<3,>=2.21.0->tensorboard<2.14,>=2.13->tensorflow==2.13.0) (2.2.3)\n",
      "Requirement already satisfied: certifi>=2017.4.17 in /usr/local/lib/python3.10/dist-packages (from requests<3,>=2.21.0->tensorboard<2.14,>=2.13->tensorflow==2.13.0) (2024.8.30)\n",
      "Requirement already satisfied: MarkupSafe>=2.1.1 in /usr/local/lib/python3.10/dist-packages (from werkzeug>=1.0.1->tensorboard<2.14,>=2.13->tensorflow==2.13.0) (3.0.2)\n",
      "Requirement already satisfied: pyasn1<0.7.0,>=0.4.6 in /usr/local/lib/python3.10/dist-packages (from pyasn1-modules>=0.2.1->google-auth<3,>=1.6.3->tensorboard<2.14,>=2.13->tensorflow==2.13.0) (0.6.1)\n",
      "Requirement already satisfied: oauthlib>=3.0.0 in /usr/local/lib/python3.10/dist-packages (from requests-oauthlib>=0.7.0->google-auth-oauthlib<1.1,>=0.5->tensorboard<2.14,>=2.13->tensorflow==2.13.0) (3.2.2)\n"
     ]
    }
   ],
   "source": [
    "!pip install tensorflow==2.13.0"
   ]
  },
  {
   "cell_type": "code",
   "execution_count": 3,
   "metadata": {
    "colab": {
     "base_uri": "https://localhost:8080/"
    },
    "executionInfo": {
     "elapsed": 18476,
     "status": "ok",
     "timestamp": 1730907170661,
     "user": {
      "displayName": "dabbrata das",
      "userId": "05166886590944937364"
     },
     "user_tz": -480
    },
    "id": "iEXigW5OV8Nz",
    "outputId": "45455b78-966c-418d-a426-92d7ce46a190"
   },
   "outputs": [
    {
     "name": "stdout",
     "output_type": "stream",
     "text": [
      "Found existing installation: opencv-python-headless 4.10.0.84\n",
      "Uninstalling opencv-python-headless-4.10.0.84:\n",
      "  Would remove:\n",
      "    /usr/local/lib/python3.10/dist-packages/cv2/*\n",
      "    /usr/local/lib/python3.10/dist-packages/opencv_python_headless-4.10.0.84.dist-info/*\n",
      "    /usr/local/lib/python3.10/dist-packages/opencv_python_headless.libs/libavcodec-9aae324f.so.59.37.100\n",
      "    /usr/local/lib/python3.10/dist-packages/opencv_python_headless.libs/libavformat-3ff1be5b.so.59.27.100\n",
      "    /usr/local/lib/python3.10/dist-packages/opencv_python_headless.libs/libavutil-a0a0531e.so.57.28.100\n",
      "    /usr/local/lib/python3.10/dist-packages/opencv_python_headless.libs/libcrypto-337dac8b.so.1.1\n",
      "    /usr/local/lib/python3.10/dist-packages/opencv_python_headless.libs/libgfortran-91cc3cb1.so.3.0.0\n",
      "    /usr/local/lib/python3.10/dist-packages/opencv_python_headless.libs/libopenblas-r0-f650aae0.3.3.so\n",
      "    /usr/local/lib/python3.10/dist-packages/opencv_python_headless.libs/libpng16-1bde1c40.so.16.43.0\n",
      "    /usr/local/lib/python3.10/dist-packages/opencv_python_headless.libs/libquadmath-96973f99.so.0.0.0\n",
      "    /usr/local/lib/python3.10/dist-packages/opencv_python_headless.libs/libssl-28bef1ac.so.1.1\n",
      "    /usr/local/lib/python3.10/dist-packages/opencv_python_headless.libs/libswresample-2ec4394e.so.4.7.100\n",
      "    /usr/local/lib/python3.10/dist-packages/opencv_python_headless.libs/libswscale-2c3c8be7.so.6.7.100\n",
      "    /usr/local/lib/python3.10/dist-packages/opencv_python_headless.libs/libvpx-c3a7933e.so.9.0.0\n",
      "  Would not remove (might be manually added):\n",
      "    /usr/local/lib/python3.10/dist-packages/cv2/bgsegm/__init__.pyi\n",
      "    /usr/local/lib/python3.10/dist-packages/cv2/bioinspired/__init__.pyi\n",
      "    /usr/local/lib/python3.10/dist-packages/cv2/ccm/__init__.pyi\n",
      "    /usr/local/lib/python3.10/dist-packages/cv2/colored_kinfu/__init__.pyi\n",
      "    /usr/local/lib/python3.10/dist-packages/cv2/datasets/__init__.pyi\n",
      "    /usr/local/lib/python3.10/dist-packages/cv2/dnn_superres/__init__.pyi\n",
      "    /usr/local/lib/python3.10/dist-packages/cv2/dpm/__init__.pyi\n",
      "    /usr/local/lib/python3.10/dist-packages/cv2/dynafu/__init__.pyi\n",
      "    /usr/local/lib/python3.10/dist-packages/cv2/face/__init__.pyi\n",
      "    /usr/local/lib/python3.10/dist-packages/cv2/ft/__init__.pyi\n",
      "    /usr/local/lib/python3.10/dist-packages/cv2/hfs/__init__.pyi\n",
      "    /usr/local/lib/python3.10/dist-packages/cv2/img_hash/__init__.pyi\n",
      "    /usr/local/lib/python3.10/dist-packages/cv2/intensity_transform/__init__.pyi\n",
      "    /usr/local/lib/python3.10/dist-packages/cv2/kinfu/__init__.pyi\n",
      "    /usr/local/lib/python3.10/dist-packages/cv2/kinfu/detail/__init__.pyi\n",
      "    /usr/local/lib/python3.10/dist-packages/cv2/large_kinfu/__init__.pyi\n",
      "    /usr/local/lib/python3.10/dist-packages/cv2/legacy/__init__.pyi\n",
      "    /usr/local/lib/python3.10/dist-packages/cv2/line_descriptor/__init__.pyi\n",
      "    /usr/local/lib/python3.10/dist-packages/cv2/linemod/__init__.pyi\n",
      "    /usr/local/lib/python3.10/dist-packages/cv2/mcc/__init__.pyi\n",
      "    /usr/local/lib/python3.10/dist-packages/cv2/motempl/__init__.pyi\n",
      "    /usr/local/lib/python3.10/dist-packages/cv2/multicalib/__init__.pyi\n",
      "    /usr/local/lib/python3.10/dist-packages/cv2/omnidir/__init__.pyi\n",
      "    /usr/local/lib/python3.10/dist-packages/cv2/optflow/__init__.pyi\n",
      "    /usr/local/lib/python3.10/dist-packages/cv2/phase_unwrapping/__init__.pyi\n",
      "    /usr/local/lib/python3.10/dist-packages/cv2/plot/__init__.pyi\n",
      "    /usr/local/lib/python3.10/dist-packages/cv2/ppf_match_3d/__init__.pyi\n",
      "    /usr/local/lib/python3.10/dist-packages/cv2/qt/fonts/DejaVuSans-Bold.ttf\n",
      "    /usr/local/lib/python3.10/dist-packages/cv2/qt/fonts/DejaVuSans-BoldOblique.ttf\n",
      "    /usr/local/lib/python3.10/dist-packages/cv2/qt/fonts/DejaVuSans-ExtraLight.ttf\n",
      "    /usr/local/lib/python3.10/dist-packages/cv2/qt/fonts/DejaVuSans-Oblique.ttf\n",
      "    /usr/local/lib/python3.10/dist-packages/cv2/qt/fonts/DejaVuSans.ttf\n",
      "    /usr/local/lib/python3.10/dist-packages/cv2/qt/fonts/DejaVuSansCondensed-Bold.ttf\n",
      "    /usr/local/lib/python3.10/dist-packages/cv2/qt/fonts/DejaVuSansCondensed-BoldOblique.ttf\n",
      "    /usr/local/lib/python3.10/dist-packages/cv2/qt/fonts/DejaVuSansCondensed-Oblique.ttf\n",
      "    /usr/local/lib/python3.10/dist-packages/cv2/qt/fonts/DejaVuSansCondensed.ttf\n",
      "    /usr/local/lib/python3.10/dist-packages/cv2/qt/plugins/platforms/libqxcb.so\n",
      "    /usr/local/lib/python3.10/dist-packages/cv2/quality/__init__.pyi\n",
      "    /usr/local/lib/python3.10/dist-packages/cv2/rapid/__init__.pyi\n",
      "    /usr/local/lib/python3.10/dist-packages/cv2/reg/__init__.pyi\n",
      "    /usr/local/lib/python3.10/dist-packages/cv2/rgbd/__init__.pyi\n",
      "    /usr/local/lib/python3.10/dist-packages/cv2/saliency/__init__.pyi\n",
      "    /usr/local/lib/python3.10/dist-packages/cv2/signal/__init__.pyi\n",
      "    /usr/local/lib/python3.10/dist-packages/cv2/stereo/__init__.pyi\n",
      "    /usr/local/lib/python3.10/dist-packages/cv2/structured_light/__init__.pyi\n",
      "    /usr/local/lib/python3.10/dist-packages/cv2/text/__init__.pyi\n",
      "    /usr/local/lib/python3.10/dist-packages/cv2/videostab/__init__.pyi\n",
      "    /usr/local/lib/python3.10/dist-packages/cv2/wechat_qrcode/__init__.pyi\n",
      "    /usr/local/lib/python3.10/dist-packages/cv2/xfeatures2d/__init__.pyi\n",
      "    /usr/local/lib/python3.10/dist-packages/cv2/ximgproc/__init__.pyi\n",
      "    /usr/local/lib/python3.10/dist-packages/cv2/ximgproc/segmentation/__init__.pyi\n",
      "    /usr/local/lib/python3.10/dist-packages/cv2/xphoto/__init__.pyi\n",
      "Proceed (Y/n)? n\n",
      "\u001b[31mERROR: Ignored the following yanked versions: 3.4.11.39, 3.4.11.41, 4.4.0.40, 4.4.0.42, 4.4.0.44, 4.5.5.62, 4.7.0.68, 4.8.0.74\u001b[0m\u001b[31m\n",
      "\u001b[0m\u001b[31mERROR: Could not find a version that satisfies the requirement opencv-python-headless==4.5.2.52 (from versions: 3.4.10.37, 3.4.11.43, 3.4.11.45, 3.4.13.47, 3.4.15.55, 3.4.16.59, 3.4.17.61, 3.4.17.63, 3.4.18.65, 4.3.0.38, 4.4.0.46, 4.5.1.48, 4.5.3.56, 4.5.4.58, 4.5.4.60, 4.5.5.64, 4.6.0.66, 4.7.0.72, 4.8.0.76, 4.8.1.78, 4.9.0.80, 4.10.0.82, 4.10.0.84)\u001b[0m\u001b[31m\n",
      "\u001b[0m\u001b[31mERROR: No matching distribution found for opencv-python-headless==4.5.2.52\u001b[0m\u001b[31m\n",
      "\u001b[0mRequirement already satisfied: albumentations in /usr/local/lib/python3.10/dist-packages (1.4.20)\n",
      "Collecting albumentations\n",
      "  Downloading albumentations-1.4.21-py3-none-any.whl.metadata (31 kB)\n",
      "Collecting numpy>=1.24.4 (from albumentations)\n",
      "  Downloading numpy-2.1.3-cp310-cp310-manylinux_2_17_x86_64.manylinux2014_x86_64.whl.metadata (62 kB)\n",
      "\u001b[2K     \u001b[90m━━━━━━━━━━━━━━━━━━━━━━━━━━━━━━━━━━━━━━━━\u001b[0m \u001b[32m62.0/62.0 kB\u001b[0m \u001b[31m5.9 MB/s\u001b[0m eta \u001b[36m0:00:00\u001b[0m\n",
      "\u001b[?25hRequirement already satisfied: scipy>=1.10.0 in /usr/local/lib/python3.10/dist-packages (from albumentations) (1.13.1)\n",
      "Requirement already satisfied: PyYAML in /usr/local/lib/python3.10/dist-packages (from albumentations) (6.0.2)\n",
      "Requirement already satisfied: pydantic>=2.7.0 in /usr/local/lib/python3.10/dist-packages (from albumentations) (2.9.2)\n",
      "Collecting albucore==0.0.20 (from albumentations)\n",
      "  Downloading albucore-0.0.20-py3-none-any.whl.metadata (5.3 kB)\n",
      "Requirement already satisfied: eval-type-backport in /usr/local/lib/python3.10/dist-packages (from albumentations) (0.2.0)\n",
      "Requirement already satisfied: opencv-python-headless>=4.9.0.80 in /usr/local/lib/python3.10/dist-packages (from albumentations) (4.10.0.84)\n",
      "Requirement already satisfied: stringzilla>=3.10.4 in /usr/local/lib/python3.10/dist-packages (from albucore==0.0.20->albumentations) (3.10.6)\n",
      "Collecting simsimd>=5.9.2 (from albucore==0.0.20->albumentations)\n",
      "  Downloading simsimd-6.0.1-cp310-cp310-manylinux_2_28_x86_64.whl.metadata (57 kB)\n",
      "\u001b[2K     \u001b[90m━━━━━━━━━━━━━━━━━━━━━━━━━━━━━━━━━━━━━━━━\u001b[0m \u001b[32m57.7/57.7 kB\u001b[0m \u001b[31m5.0 MB/s\u001b[0m eta \u001b[36m0:00:00\u001b[0m\n",
      "\u001b[?25hRequirement already satisfied: annotated-types>=0.6.0 in /usr/local/lib/python3.10/dist-packages (from pydantic>=2.7.0->albumentations) (0.7.0)\n",
      "Requirement already satisfied: pydantic-core==2.23.4 in /usr/local/lib/python3.10/dist-packages (from pydantic>=2.7.0->albumentations) (2.23.4)\n",
      "Collecting typing-extensions>=4.6.1 (from pydantic>=2.7.0->albumentations)\n",
      "  Downloading typing_extensions-4.12.2-py3-none-any.whl.metadata (3.0 kB)\n",
      "Downloading albumentations-1.4.21-py3-none-any.whl (227 kB)\n",
      "\u001b[2K   \u001b[90m━━━━━━━━━━━━━━━━━━━━━━━━━━━━━━━━━━━━━━━━\u001b[0m \u001b[32m227.9/227.9 kB\u001b[0m \u001b[31m15.2 MB/s\u001b[0m eta \u001b[36m0:00:00\u001b[0m\n",
      "\u001b[?25hDownloading albucore-0.0.20-py3-none-any.whl (12 kB)\n",
      "Downloading numpy-2.1.3-cp310-cp310-manylinux_2_17_x86_64.manylinux2014_x86_64.whl (16.3 MB)\n",
      "\u001b[2K   \u001b[90m━━━━━━━━━━━━━━━━━━━━━━━━━━━━━━━━━━━━━━━━\u001b[0m \u001b[32m16.3/16.3 MB\u001b[0m \u001b[31m84.5 MB/s\u001b[0m eta \u001b[36m0:00:00\u001b[0m\n",
      "\u001b[?25hDownloading simsimd-6.0.1-cp310-cp310-manylinux_2_28_x86_64.whl (680 kB)\n",
      "\u001b[2K   \u001b[90m━━━━━━━━━━━━━━━━━━━━━━━━━━━━━━━━━━━━━━━━\u001b[0m \u001b[32m680.5/680.5 kB\u001b[0m \u001b[31m45.0 MB/s\u001b[0m eta \u001b[36m0:00:00\u001b[0m\n",
      "\u001b[?25hDownloading typing_extensions-4.12.2-py3-none-any.whl (37 kB)\n",
      "Installing collected packages: simsimd, typing-extensions, numpy, albucore, albumentations\n",
      "  Attempting uninstall: typing-extensions\n",
      "    Found existing installation: typing_extensions 4.5.0\n",
      "    Uninstalling typing_extensions-4.5.0:\n",
      "      Successfully uninstalled typing_extensions-4.5.0\n",
      "  Attempting uninstall: numpy\n",
      "    Found existing installation: numpy 1.24.3\n",
      "    Uninstalling numpy-1.24.3:\n",
      "      Successfully uninstalled numpy-1.24.3\n",
      "  Attempting uninstall: albucore\n",
      "    Found existing installation: albucore 0.0.19\n",
      "    Uninstalling albucore-0.0.19:\n",
      "      Successfully uninstalled albucore-0.0.19\n",
      "  Attempting uninstall: albumentations\n",
      "    Found existing installation: albumentations 1.4.20\n",
      "    Uninstalling albumentations-1.4.20:\n",
      "      Successfully uninstalled albumentations-1.4.20\n",
      "\u001b[31mERROR: pip's dependency resolver does not currently take into account all the packages that are installed. This behaviour is the source of the following dependency conflicts.\n",
      "cupy-cuda12x 12.2.0 requires numpy<1.27,>=1.20, but you have numpy 2.1.3 which is incompatible.\n",
      "gensim 4.3.3 requires numpy<2.0,>=1.18.5, but you have numpy 2.1.3 which is incompatible.\n",
      "langchain 0.3.4 requires numpy<2,>=1; python_version < \"3.12\", but you have numpy 2.1.3 which is incompatible.\n",
      "matplotlib 3.8.0 requires numpy<2,>=1.21, but you have numpy 2.1.3 which is incompatible.\n",
      "numba 0.60.0 requires numpy<2.1,>=1.22, but you have numpy 2.1.3 which is incompatible.\n",
      "pytensor 2.25.5 requires numpy<2,>=1.17.0, but you have numpy 2.1.3 which is incompatible.\n",
      "tensorflow 2.13.0 requires numpy<=1.24.3,>=1.22, but you have numpy 2.1.3 which is incompatible.\n",
      "tensorflow 2.13.0 requires typing-extensions<4.6.0,>=3.6.6, but you have typing-extensions 4.12.2 which is incompatible.\n",
      "tf-keras 2.17.0 requires tensorflow<2.18,>=2.17, but you have tensorflow 2.13.0 which is incompatible.\n",
      "thinc 8.2.5 requires numpy<2.0.0,>=1.19.0; python_version >= \"3.9\", but you have numpy 2.1.3 which is incompatible.\u001b[0m\u001b[31m\n",
      "\u001b[0mSuccessfully installed albucore-0.0.20 albumentations-1.4.21 numpy-2.1.3 simsimd-6.0.1 typing-extensions-4.12.2\n"
     ]
    }
   ],
   "source": [
    "!pip uninstall opencv-python-headless==4.5.5.62\n",
    "!pip install opencv-python-headless==4.5.2.52\n",
    "\n",
    "!pip install -U albumentations"
   ]
  },
  {
   "cell_type": "code",
   "execution_count": null,
   "metadata": {
    "colab": {
     "base_uri": "https://localhost:8080/",
     "height": 219
    },
    "executionInfo": {
     "elapsed": 615,
     "status": "error",
     "timestamp": 1730907195087,
     "user": {
      "displayName": "dabbrata das",
      "userId": "05166886590944937364"
     },
     "user_tz": -480
    },
    "id": "MVJWjJIVMiHK",
    "outputId": "85065cdf-81bc-4fb8-d30c-9058a912e18a"
   },
   "outputs": [],
   "source": [
    "%tensorflow_version 2.x\n",
    "import tensorflow as tf\n",
    "\n",
    "device_name = tf.test.gpu_device_name()\n",
    "if device_name != '/device:GPU:0':\n",
    "    raise SystemError('GPU device not found')\n",
    "print('Found GPU at: {}'.format(device_name))"
   ]
  },
  {
   "cell_type": "code",
   "execution_count": 7,
   "metadata": {
    "colab": {
     "base_uri": "https://localhost:8080/"
    },
    "executionInfo": {
     "elapsed": 46625,
     "status": "ok",
     "timestamp": 1730907272040,
     "user": {
      "displayName": "dabbrata das",
      "userId": "05166886590944937364"
     },
     "user_tz": -480
    },
    "id": "dOB_4pn6MjAq",
    "outputId": "0832b59e-6aab-47f1-faa6-bbcab7940d82"
   },
   "outputs": [
    {
     "name": "stdout",
     "output_type": "stream",
     "text": [
      "Mounted at /content/drive\n",
      "/content/drive/My Drive\n",
      "/content/drive/My Drive\n"
     ]
    }
   ],
   "source": [
    "from google.colab import drive\n",
    "drive.mount('/content/drive')\n",
    "\n",
    "%cd '/content/drive/My Drive/'\n",
    "\n",
    "import os\n",
    "\n",
    "BASE_DIR = os.getcwd()\n",
    "\n",
    "# BASE_DIR is working directory for this notebook\n",
    "print(BASE_DIR)"
   ]
  },
  {
   "cell_type": "markdown",
   "metadata": {
    "id": "h2MoV6LzL36j"
   },
   "source": [
    "## Import libraries"
   ]
  },
  {
   "cell_type": "code",
   "execution_count": 9,
   "metadata": {
    "executionInfo": {
     "elapsed": 10769,
     "status": "ok",
     "timestamp": 1730907617356,
     "user": {
      "displayName": "dabbrata das",
      "userId": "05166886590944937364"
     },
     "user_tz": -480
    },
    "id": "5Lg8Uia6L36k"
   },
   "outputs": [],
   "source": [
    "import string\n",
    "import json\n",
    "import numpy as np\n",
    "import matplotlib.pyplot as plt\n",
    "\n",
    "from htr.preprocessing import get_augmentation_pipeline\n",
    "from htr.generator import DataGenerator\n",
    "from htr.network.models import *\n",
    "from htr.utils import implt\n",
    "\n",
    "from htr.evaluation import ocr_metrics\n",
    "\n",
    "from tensorflow.keras.models import Model\n",
    "\n",
    "# Load the TensorBoard notebook extension\n",
    "%load_ext tensorboard"
   ]
  },
  {
   "cell_type": "markdown",
   "metadata": {
    "id": "HOnnRM5ML36k"
   },
   "source": [
    "***Filepaths***"
   ]
  },
  {
   "cell_type": "code",
   "execution_count": 10,
   "metadata": {
    "executionInfo": {
     "elapsed": 3,
     "status": "ok",
     "timestamp": 1730907620542,
     "user": {
      "displayName": "dabbrata das",
      "userId": "05166886590944937364"
     },
     "user_tz": -480
    },
    "id": "mn56hyNIL36l"
   },
   "outputs": [],
   "source": [
    "dataset_path = os.path.join(BASE_DIR, 'htr', 'data', 'BanglaWriting1.hdf5')"
   ]
  },
  {
   "cell_type": "markdown",
   "metadata": {
    "id": "ymtQxT8_L36l"
   },
   "source": [
    "***Parameters***"
   ]
  },
  {
   "cell_type": "code",
   "execution_count": 11,
   "metadata": {
    "colab": {
     "base_uri": "https://localhost:8080/"
    },
    "executionInfo": {
     "elapsed": 606,
     "status": "ok",
     "timestamp": 1730907623712,
     "user": {
      "displayName": "dabbrata das",
      "userId": "05166886590944937364"
     },
     "user_tz": -480
    },
    "id": "8it-6380L36l",
    "outputId": "b6df3c88-0f88-41cf-934a-673d6dee3b28"
   },
   "outputs": [
    {
     "name": "stdout",
     "output_type": "stream",
     "text": [
      "90\n"
     ]
    }
   ],
   "source": [
    "input_size = (256, 64, 1)\n",
    "max_text_len = 32\n",
    "batch_size = 32\n",
    "epochs = 200\n",
    "\n",
    "# charset = ''.join(json.load(open(os.path.join(BASE_DIR, 'htr', 'data', 'BanglaWriting-characters.json'))))\n",
    "\n",
    "charlist = json.load(open(os.path.join(BASE_DIR, 'htr', 'data', 'BanglaWriting-characters.json')))\n",
    "charlist.remove(' ')\n",
    "charset = ''.join(charlist)\n",
    "print(len(charset))"
   ]
  },
  {
   "cell_type": "markdown",
   "metadata": {
    "id": "VeT2qj18L36m"
   },
   "source": [
    "***DataGenerator class***"
   ]
  },
  {
   "cell_type": "code",
   "execution_count": null,
   "metadata": {
    "colab": {
     "base_uri": "https://localhost:8080/",
     "height": 790
    },
    "executionInfo": {
     "elapsed": 646,
     "status": "error",
     "timestamp": 1730907643890,
     "user": {
      "displayName": "dabbrata das",
      "userId": "05166886590944937364"
     },
     "user_tz": -480
    },
    "id": "xHOLQbgKL36m",
    "outputId": "993e8bc1-52cc-42d2-835a-a32915a935e9"
   },
   "outputs": [],
   "source": [
    "generator = DataGenerator(dataset_path=dataset_path,\n",
    "                          input_size=input_size,\n",
    "                          batch_size=batch_size,\n",
    "                          max_text_len=max_text_len,\n",
    "                          charset=charset,\n",
    "                          aug= get_augmentation_pipeline(),\n",
    "                          encoding='utf-8')\n",
    "\n",
    "print('Images:', generator._size)"
   ]
  },
  {
   "cell_type": "markdown",
   "metadata": {
    "id": "ewrXiKM8L36n"
   },
   "source": [
    "## *Custom*\n",
    "### Model\n",
    "***Based on model.py***"
   ]
  },
  {
   "cell_type": "code",
   "execution_count": 14,
   "metadata": {
    "executionInfo": {
     "elapsed": 840,
     "status": "ok",
     "timestamp": 1730907651319,
     "user": {
      "displayName": "dabbrata das",
      "userId": "05166886590944937364"
     },
     "user_tz": -480
    },
    "id": "GvOn5Odh3VJc"
   },
   "outputs": [],
   "source": [
    "import tensorflow as tf\n",
    "\n",
    "from tensorflow.keras import backend as K\n",
    "\n",
    "from tensorflow.keras.callbacks import CSVLogger, TensorBoard, ModelCheckpoint\n",
    "from tensorflow.keras.callbacks import EarlyStopping, ReduceLROnPlateau\n",
    "from tensorflow.keras.constraints import MaxNorm\n",
    "\n",
    "from tensorflow.keras.layers import Conv2D, Bidirectional, LSTM, GRU, Dense\n",
    "from tensorflow.keras.layers import BatchNormalization, LeakyReLU, PReLU, Dropout\n",
    "from tensorflow.keras.layers import MaxPooling2D, Input, Reshape, MaxPool2D, AvgPool2D, GlobalAveragePooling2D\n",
    "from tensorflow.keras.layers import ReLU, concatenate\n",
    "\n",
    "from htr.network.layers import FullGatedConv2D, GatedConv2D"
   ]
  },
  {
   "cell_type": "code",
   "execution_count": 15,
   "metadata": {
    "executionInfo": {
     "elapsed": 4,
     "status": "ok",
     "timestamp": 1730907653803,
     "user": {
      "displayName": "dabbrata das",
      "userId": "05166886590944937364"
     },
     "user_tz": -480
    },
    "id": "WCPB8-2O3cuB"
   },
   "outputs": [],
   "source": [
    "def custom4(input_size, d_model):\n",
    "    input_data = Input(name=\"input\", shape=input_size)\n",
    "\n",
    "    cnn = Conv2D(filters=16, kernel_size=(3, 3), strides=(1, 1), padding=\"same\", kernel_initializer=\"he_uniform\")(input_data)\n",
    "    cnn = PReLU(shared_axes=[1, 2])(cnn)\n",
    "    cnn = BatchNormalization(renorm=True)(cnn)\n",
    "    cnn = FullGatedConv2D(filters=16, kernel_size=(3, 3), padding=\"same\")(cnn)\n",
    "    cnn = MaxPooling2D(pool_size=(2, 2), strides=(2, 2), padding=\"valid\")(cnn)\n",
    "\n",
    "    cnn = Conv2D(filters=32, kernel_size=(3, 3), strides=(1, 1), padding=\"same\", kernel_initializer=\"he_uniform\")(cnn)\n",
    "    cnn = PReLU(shared_axes=[1, 2])(cnn)\n",
    "    cnn = BatchNormalization(renorm=True)(cnn)\n",
    "    cnn = FullGatedConv2D(filters=32, kernel_size=(3, 3), padding=\"same\")(cnn)\n",
    "    cnn = MaxPooling2D(pool_size=(2, 2), strides=(2, 2), padding=\"valid\")(cnn)\n",
    "\n",
    "    cnn = Conv2D(filters=48, kernel_size=(3, 3), strides=(1, 1), padding=\"same\", kernel_initializer=\"he_uniform\")(cnn)\n",
    "    cnn = PReLU(shared_axes=[1, 2])(cnn)\n",
    "    cnn = BatchNormalization(renorm=True)(cnn)\n",
    "    cnn = FullGatedConv2D(filters=48, kernel_size=(3, 3), padding=\"same\")(cnn)\n",
    "    cnn = MaxPooling2D(pool_size=(2, 2), strides=(2, 2), padding=\"valid\")(cnn)\n",
    "    cnn = Dropout(rate=0.2)(cnn)\n",
    "\n",
    "    cnn = Conv2D(filters=64, kernel_size=(3, 3), strides=(1, 1), padding=\"same\", kernel_initializer=\"he_uniform\")(cnn)\n",
    "    cnn = PReLU(shared_axes=[1, 2])(cnn)\n",
    "    cnn = BatchNormalization(renorm=True)(cnn)\n",
    "    cnn = FullGatedConv2D(filters=64, kernel_size=(3, 3), padding=\"same\")(cnn)\n",
    "    cnn = MaxPooling2D(pool_size=(2, 2), strides=(2, 2), padding=\"valid\")(cnn)\n",
    "    cnn = Dropout(rate=0.2)(cnn)\n",
    "\n",
    "    shape = cnn.get_shape()\n",
    "    blstm = Reshape((shape[1], shape[2] * shape[3]))(cnn)\n",
    "\n",
    "    blstm = Bidirectional(LSTM(units=128, return_sequences=True, dropout=0.5))(blstm)\n",
    "    blstm = Dense(units=256)(blstm)\n",
    "\n",
    "    blstm = Bidirectional(LSTM(units=128, return_sequences=True, dropout=0.5))(blstm)\n",
    "    output_data = Dense(units=d_model, activation=\"softmax\")(blstm)\n",
    "\n",
    "    return (input_data, output_data)\n"
   ]
  },
  {
   "cell_type": "code",
   "execution_count": 16,
   "metadata": {
    "executionInfo": {
     "elapsed": 3,
     "status": "ok",
     "timestamp": 1730907655493,
     "user": {
      "displayName": "dabbrata das",
      "userId": "05166886590944937364"
     },
     "user_tz": -480
    },
    "id": "fMZYxRCOD8ly"
   },
   "outputs": [],
   "source": [
    "output_path = os.path.join(BASE_DIR, 'htr', 'data3', 'output-bangla-custom4')\n",
    "target_path = os.path.join(output_path, 'checkpoint_weights.hdf5')"
   ]
  },
  {
   "cell_type": "code",
   "execution_count": null,
   "metadata": {
    "colab": {
     "base_uri": "https://localhost:8080/",
     "height": 183
    },
    "executionInfo": {
     "elapsed": 5,
     "status": "error",
     "timestamp": 1730907656373,
     "user": {
      "displayName": "dabbrata das",
      "userId": "05166886590944937364"
     },
     "user_tz": -480
    },
    "id": "Ct3OlM0ZL36n",
    "outputId": "ea180593-501a-40ad-eb87-747d01141723",
    "scrolled": true
   },
   "outputs": [],
   "source": [
    "inputs, outputs = custom4(input_size=input_size, d_model=generator.tokenizer.vocab_size + 1)\n",
    "model = Model(inputs=inputs, outputs=outputs)\n",
    "model.summary()"
   ]
  },
  {
   "cell_type": "code",
   "execution_count": null,
   "metadata": {
    "id": "8D8JcReWL36n"
   },
   "outputs": [],
   "source": [
    "model.compile(optimizer=tf.keras.optimizers.Adam(), loss=ctc_loss)\n",
    "\n",
    "# Load weights from target_path\n",
    "if os.path.isfile(target_path):\n",
    "    model.load_weights(target_path)\n",
    "    print('===== Pre-trained weights loaded =====')"
   ]
  },
  {
   "cell_type": "markdown",
   "metadata": {
    "id": "4pzzFF4BL36o"
   },
   "source": [
    "### Training"
   ]
  },
  {
   "cell_type": "code",
   "execution_count": null,
   "metadata": {
    "colab": {
     "base_uri": "https://localhost:8080/",
     "height": 408
    },
    "executionInfo": {
     "elapsed": 380,
     "status": "error",
     "timestamp": 1730820737787,
     "user": {
      "displayName": "Farhan Sadaf",
      "userId": "12019905476875171721"
     },
     "user_tz": -360
    },
    "id": "0G7p0OLkL36o",
    "outputId": "8f75e229-591a-4a31-9bba-a983850cf1e4"
   },
   "outputs": [],
   "source": [
    "callbacks = get_callbacks(logdir=output_path,\n",
    "                          checkpoint_filepath=target_path,\n",
    "                          verbose=1,\n",
    "                          stop_patience=15,\n",
    "                          reduce_patience=4)"
   ]
  },
  {
   "cell_type": "code",
   "execution_count": null,
   "metadata": {
    "id": "xf-QKaMhL36p"
   },
   "outputs": [],
   "source": [
    "model.fit(x=generator.next_train_batch(),\n",
    "          steps_per_epoch=generator._steps['train'],\n",
    "          validation_data=generator.next_val_batch(),\n",
    "          validation_steps=generator._steps['val'],\n",
    "          epochs=epochs,\n",
    "          callbacks=callbacks,\n",
    "          verbose=1)"
   ]
  },
  {
   "cell_type": "markdown",
   "metadata": {
    "id": "3jl1EApsL36p"
   },
   "source": [
    "*Training history from CSVLogger callback*"
   ]
  },
  {
   "cell_type": "code",
   "execution_count": null,
   "metadata": {
    "colab": {
     "base_uri": "https://localhost:8080/",
     "height": 439
    },
    "executionInfo": {
     "elapsed": 919,
     "status": "ok",
     "timestamp": 1651331637298,
     "user": {
      "displayName": "Farhan Sadaf",
      "userId": "13581464023664260799"
     },
     "user_tz": -360
    },
    "id": "Xqh0VqMhL36p",
    "outputId": "1db64aac-74b5-4445-98a7-92e7da481344"
   },
   "outputs": [
    {
     "name": "stdout",
     "output_type": "stream",
     "text": [
      "Min val_loss: 1.8744866847991943\n",
      "Min val_loss epoch: 127\n"
     ]
    },
    {
     "data": {
      "image/png": "[encoded data removed]",
      "text/plain": [
       "<Figure size 720x432 with 1 Axes>"
      ]
     },
     "metadata": {},
     "output_type": "display_data"
    }
   ],
   "source": [
    "from pandas import read_csv\n",
    "from scipy.signal import savgol_filter\n",
    "from ipywidgets import interact\n",
    "\n",
    "path = os.path.join(output_path, 'epochs.log')\n",
    "if os.path.isfile(path):\n",
    "    history = read_csv(path)\n",
    "    loss = history['loss']\n",
    "    val_loss = history['val_loss']\n",
    "\n",
    "    print('Min val_loss:', np.min(val_loss))\n",
    "    print('Min val_loss epoch:', np.argmin(val_loss))\n",
    "\n",
    "    # Plot training vs validation loss\n",
    "    plt.figure(figsize=(10, 6))\n",
    "    plt.plot(loss, 'r.')\n",
    "    plt.plot(val_loss, 'b.')\n",
    "    # Smoothing\n",
    "    plt.plot(savgol_filter(loss, 11, 3), 'r-', label='Training')\n",
    "    plt.plot(savgol_filter(val_loss, 11, 3), 'b-', label='Validation')\n",
    "    plt.title('Training and validation loss')\n",
    "    plt.xlabel('epochs')\n",
    "    plt.ylabel('loss')\n",
    "    plt.legend()\n",
    "    plt.grid('on')\n",
    "    plt.show()\n",
    "\n",
    "else:\n",
    "    print(\"File doesn't exist\")"
   ]
  },
  {
   "cell_type": "markdown",
   "metadata": {
    "id": "Azn00GtvL36q"
   },
   "source": [
    "*Logs from Tensorboard*\n",
    "\n",
    "If tensorboard gets timed out or doesn't show up, it might be running on http://localhost:6006/."
   ]
  },
  {
   "cell_type": "code",
   "execution_count": null,
   "metadata": {
    "id": "EyrUT8AKJZdC"
   },
   "outputs": [],
   "source": [
    "!find /content/drive/My\\Drive/htr/data/output-bangla-puigcerver | grep tfevents"
   ]
  },
  {
   "cell_type": "code",
   "execution_count": null,
   "metadata": {
    "id": "myQAhAqiL36q"
   },
   "outputs": [],
   "source": [
    "%tensorboard --logdir /content/drive/My\\Drive/htr/data/output-bangla-puigcerver"
   ]
  },
  {
   "cell_type": "markdown",
   "metadata": {
    "id": "9LL8PD57L36r"
   },
   "source": [
    "### Prediction | Evaluation"
   ]
  },
  {
   "cell_type": "markdown",
   "metadata": {
    "id": "nxO0sEk1L36r"
   },
   "source": [
    "***Validation set***"
   ]
  },
  {
   "cell_type": "code",
   "execution_count": null,
   "metadata": {
    "colab": {
     "base_uri": "https://localhost:8080/"
    },
    "executionInfo": {
     "elapsed": 14046,
     "status": "ok",
     "timestamp": 1651331657049,
     "user": {
      "displayName": "Farhan Sadaf",
      "userId": "13581464023664260799"
     },
     "user_tz": -360
    },
    "id": "hCULKJjZL36r",
    "outputId": "368b120d-7ab0-41a4-c886-dd02cbfb9ee5"
   },
   "outputs": [
    {
     "name": "stdout",
     "output_type": "stream",
     "text": [
      "           VALIDATION SET           \n",
      "26/26 [==============================] - 4s 66ms/step\n",
      "Y_pred shape: (829, 16, 93)\n",
      "26/26 [==============================] - 10s 373ms/step\n",
      "\n",
      "CTC decoded predictions len: 829\n",
      "Character Error Rate (%) : 12.7807\n",
      "Word Error Rate (%) : 36.6707\n",
      "Sequence Error Rate (%) : 36.6707\n"
     ]
    }
   ],
   "source": [
    "print('           VALIDATION SET           ')\n",
    "Y_pred = model.predict(x=generator.next_val_batch(), steps=generator._steps['val'], verbose=1)\n",
    "print('Y_pred shape:', Y_pred.shape)\n",
    "\n",
    "# Predictions, Probabilities after decoding\n",
    "predictions, probabilities = ctc_decode(Y_pred=Y_pred, batch_size=batch_size, verbose=1)\n",
    "print('\\nCTC decoded predictions len:', len(predictions))\n",
    "\n",
    "pred_texts = [generator.tokenizer.decode(y) for y in predictions]\n",
    "gt_texts = [y.decode() for y in generator.dataset['val']['gt_texts']]\n",
    "\n",
    "cer, wer, ser = ocr_metrics(pred_texts, gt_texts, lower=False) * 100\n",
    "print(f'Character Error Rate (%) : {cer:.4f}')\n",
    "print(f'Word Error Rate (%) : {wer:.4f}')\n",
    "print(f'Sequence Error Rate (%) : {ser:.4f}')"
   ]
  },
  {
   "cell_type": "markdown",
   "metadata": {
    "id": "2TKt-aA1L36r"
   },
   "source": [
    "***Test set***"
   ]
  },
  {
   "cell_type": "code",
   "execution_count": null,
   "metadata": {
    "colab": {
     "base_uri": "https://localhost:8080/"
    },
    "executionInfo": {
     "elapsed": 19628,
     "status": "ok",
     "timestamp": 1651331676661,
     "user": {
      "displayName": "Farhan Sadaf",
      "userId": "13581464023664260799"
     },
     "user_tz": -360
    },
    "id": "xmQOWxKLL36s",
    "outputId": "8c5b1e12-dc3f-4e55-de9b-d17aac3d676b"
   },
   "outputs": [
    {
     "name": "stdout",
     "output_type": "stream",
     "text": [
      "           TEST SET           \n",
      "39/39 [==============================] - 5s 66ms/step\n",
      "Y_pred shape: (1244, 16, 93)\n",
      "39/39 [==============================] - 15s 373ms/step\n",
      "\n",
      "CTC decoded predictions len: 1244\n",
      "Character Error Rate (%) : 12.3678\n",
      "Word Error Rate (%) : 34.1640\n",
      "Sequence Error Rate (%) : 34.1640\n"
     ]
    }
   ],
   "source": [
    "print('           TEST SET           ')\n",
    "Y_pred = model.predict(x=generator.next_test_batch(), steps=generator._steps['test'], verbose=1)\n",
    "print('Y_pred shape:', Y_pred.shape)\n",
    "\n",
    "# Predictions, Probabilities after decoding\n",
    "predictions, probabilities = ctc_decode(Y_pred=Y_pred, batch_size=batch_size, verbose=1)\n",
    "print('\\nCTC decoded predictions len:', len(predictions))\n",
    "\n",
    "pred_texts = [generator.tokenizer.decode(y) for y in predictions]\n",
    "gt_texts = [y.decode() for y in generator.dataset['test']['gt_texts']]\n",
    "\n",
    "cer, wer, ser = ocr_metrics(pred_texts, gt_texts, lower=False) * 100\n",
    "print(f'Character Error Rate (%) : {cer:.4f}')\n",
    "print(f'Word Error Rate (%) : {wer:.4f}')\n",
    "print(f'Sequence Error Rate (%) : {ser:.4f}')"
   ]
  },
  {
   "cell_type": "code",
   "execution_count": null,
   "metadata": {
    "id": "CMOLh1EpL36s"
   },
   "outputs": [],
   "source": []
  }
 ],
 "metadata": {
  "accelerator": "GPU",
  "colab": {
   "gpuType": "T4",
   "provenance": []
  },
  "kernelspec": {
   "display_name": "Python 3",
   "name": "python3"
  },
  "language_info": {
   "codemirror_mode": {
    "name": "ipython",
    "version": 3
   },
   "file_extension": ".py",
   "mimetype": "text/x-python",
   "name": "python",
   "nbconvert_exporter": "python",
   "pygments_lexer": "ipython3",
   "version": "3.8.1"
  }
 },
 "nbformat": 4,
 "nbformat_minor": 0
}
